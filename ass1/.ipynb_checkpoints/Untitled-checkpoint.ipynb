{
 "cells": [
  {
   "cell_type": "code",
   "execution_count": 9,
   "metadata": {},
   "outputs": [],
   "source": [
    "import numpy as np\n",
    "import matplotlib.pyplot as plt\n",
    "from scipy.integrate import solve_ivp\n",
    "from scipy.optimize import curve_fit"
   ]
  },
  {
   "cell_type": "code",
   "execution_count": 17,
   "metadata": {},
   "outputs": [],
   "source": [
    "def func(t, u, gamma, beta):\n",
    "    \n",
    "    S, I, R = u\n",
    "    \n",
    "    dS = -beta*S*I\n",
    "    dI = beta*S*I - gamma*I   \n",
    "    dR = gamma*I\n",
    "    \n",
    "    return [dS, dI, dR]\n",
    "\n",
    "N = 763 # total number of students\n",
    "days = np.arange(1, 15) # duration of outbreak\n",
    "cases = np.array([3, 8, 28, 75, 221, 291, 255, 235, 190, 125, 70, 28, 12, 5]) / N # cases (ratio)\n",
    "\n",
    "S0 = 1.0/763\n",
    "I0 = 1.0\n",
    "R0 = 0.0\n",
    "\n",
    "\"\"\"gamma = 1.0\n",
    "beta = 3.0\"\"\"\n",
    "\n",
    "u0 = np.array([S0, I0, R0])\n",
    "tspan = (1, 14)\n",
    "\n",
    "def integrand(t, gamma, beta):\n",
    "    sol = solve_ivp(func, tspan, u0, args=(gamma, beta), dense_output=True)\n",
    "    return sol.sol(t)[1] # only return I(t)\n",
    "\n",
    "fit = curve_fit(integrand, days, cases)"
   ]
  },
  {
   "cell_type": "code",
   "execution_count": 18,
   "metadata": {},
   "outputs": [
    {
     "data": {
      "text/plain": [
       "array([-5.20706688e+00, -6.43430157e+03])"
      ]
     },
     "execution_count": 18,
     "metadata": {},
     "output_type": "execute_result"
    }
   ],
   "source": [
    "fit[0]"
   ]
  },
  {
   "cell_type": "code",
   "execution_count": null,
   "metadata": {},
   "outputs": [],
   "source": []
  }
 ],
 "metadata": {
  "kernelspec": {
   "display_name": "Python 3",
   "language": "python",
   "name": "python3"
  },
  "language_info": {
   "codemirror_mode": {
    "name": "ipython",
    "version": 3
   },
   "file_extension": ".py",
   "mimetype": "text/x-python",
   "name": "python",
   "nbconvert_exporter": "python",
   "pygments_lexer": "ipython3",
   "version": "3.8.3"
  }
 },
 "nbformat": 4,
 "nbformat_minor": 4
}
